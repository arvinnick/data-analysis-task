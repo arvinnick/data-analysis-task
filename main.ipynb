{
 "cells": [
  {
   "cell_type": "code",
   "id": "initial_id",
   "metadata": {
    "collapsed": true,
    "ExecuteTime": {
     "end_time": "2024-07-05T10:26:10.597273Z",
     "start_time": "2024-07-05T10:26:10.207019Z"
    }
   },
   "source": [
    "import numpy as np\n",
    "import pandas as pd"
   ],
   "outputs": [],
   "execution_count": 2
  },
  {
   "metadata": {
    "ExecuteTime": {
     "end_time": "2024-07-05T10:26:10.664392Z",
     "start_time": "2024-07-05T10:26:10.598334Z"
    }
   },
   "cell_type": "code",
   "source": [
    "cardio_alco = pd.read_csv('./data/cardio_alco.csv', delimiter=\";\")\n",
    "cardio_base = pd.read_csv('./data/cardio_base.csv')\n",
    "covid_data = pd.read_csv('./data/covid_data.csv')"
   ],
   "id": "e2960d9d6ef6dd22",
   "outputs": [],
   "execution_count": 3
  },
  {
   "metadata": {
    "ExecuteTime": {
     "end_time": "2024-07-05T10:26:10.668667Z",
     "start_time": "2024-07-05T10:26:10.665234Z"
    }
   },
   "cell_type": "code",
   "source": "cardio_base[\"age\"] = round(cardio_base[\"age\"]/365)",
   "id": "e1bd3d064d3826b8",
   "outputs": [],
   "execution_count": 4
  },
  {
   "metadata": {
    "ExecuteTime": {
     "end_time": "2024-07-05T10:26:10.713665Z",
     "start_time": "2024-07-05T10:26:10.670212Z"
    }
   },
   "cell_type": "code",
   "source": "cardio_base.describe()",
   "id": "97c403b6434f45d8",
   "outputs": [
    {
     "data": {
      "text/plain": [
       "                 id           age        gender        height        weight  \\\n",
       "count  70000.000000  70000.000000  70000.000000  70000.000000  70000.000000   \n",
       "mean   49972.419900     53.338686      1.349571    164.359229     74.205690   \n",
       "std    28851.302323      6.765294      0.476838      8.210126     14.395757   \n",
       "min        0.000000     30.000000      1.000000     55.000000     10.000000   \n",
       "25%    25006.750000     48.000000      1.000000    159.000000     65.000000   \n",
       "50%    50001.500000     54.000000      1.000000    165.000000     72.000000   \n",
       "75%    74889.250000     58.000000      2.000000    170.000000     82.000000   \n",
       "max    99999.000000     65.000000      2.000000    250.000000    200.000000   \n",
       "\n",
       "              ap_hi         ap_lo   cholesterol         smoke  \n",
       "count  70000.000000  70000.000000  70000.000000  70000.000000  \n",
       "mean     128.817286     96.630414      1.366871      0.088129  \n",
       "std      154.011419    188.472530      0.680250      0.283484  \n",
       "min     -150.000000    -70.000000      1.000000      0.000000  \n",
       "25%      120.000000     80.000000      1.000000      0.000000  \n",
       "50%      120.000000     80.000000      1.000000      0.000000  \n",
       "75%      140.000000     90.000000      2.000000      0.000000  \n",
       "max    16020.000000  11000.000000      3.000000      1.000000  "
      ],
      "text/html": [
       "<div>\n",
       "<style scoped>\n",
       "    .dataframe tbody tr th:only-of-type {\n",
       "        vertical-align: middle;\n",
       "    }\n",
       "\n",
       "    .dataframe tbody tr th {\n",
       "        vertical-align: top;\n",
       "    }\n",
       "\n",
       "    .dataframe thead th {\n",
       "        text-align: right;\n",
       "    }\n",
       "</style>\n",
       "<table border=\"1\" class=\"dataframe\">\n",
       "  <thead>\n",
       "    <tr style=\"text-align: right;\">\n",
       "      <th></th>\n",
       "      <th>id</th>\n",
       "      <th>age</th>\n",
       "      <th>gender</th>\n",
       "      <th>height</th>\n",
       "      <th>weight</th>\n",
       "      <th>ap_hi</th>\n",
       "      <th>ap_lo</th>\n",
       "      <th>cholesterol</th>\n",
       "      <th>smoke</th>\n",
       "    </tr>\n",
       "  </thead>\n",
       "  <tbody>\n",
       "    <tr>\n",
       "      <th>count</th>\n",
       "      <td>70000.000000</td>\n",
       "      <td>70000.000000</td>\n",
       "      <td>70000.000000</td>\n",
       "      <td>70000.000000</td>\n",
       "      <td>70000.000000</td>\n",
       "      <td>70000.000000</td>\n",
       "      <td>70000.000000</td>\n",
       "      <td>70000.000000</td>\n",
       "      <td>70000.000000</td>\n",
       "    </tr>\n",
       "    <tr>\n",
       "      <th>mean</th>\n",
       "      <td>49972.419900</td>\n",
       "      <td>53.338686</td>\n",
       "      <td>1.349571</td>\n",
       "      <td>164.359229</td>\n",
       "      <td>74.205690</td>\n",
       "      <td>128.817286</td>\n",
       "      <td>96.630414</td>\n",
       "      <td>1.366871</td>\n",
       "      <td>0.088129</td>\n",
       "    </tr>\n",
       "    <tr>\n",
       "      <th>std</th>\n",
       "      <td>28851.302323</td>\n",
       "      <td>6.765294</td>\n",
       "      <td>0.476838</td>\n",
       "      <td>8.210126</td>\n",
       "      <td>14.395757</td>\n",
       "      <td>154.011419</td>\n",
       "      <td>188.472530</td>\n",
       "      <td>0.680250</td>\n",
       "      <td>0.283484</td>\n",
       "    </tr>\n",
       "    <tr>\n",
       "      <th>min</th>\n",
       "      <td>0.000000</td>\n",
       "      <td>30.000000</td>\n",
       "      <td>1.000000</td>\n",
       "      <td>55.000000</td>\n",
       "      <td>10.000000</td>\n",
       "      <td>-150.000000</td>\n",
       "      <td>-70.000000</td>\n",
       "      <td>1.000000</td>\n",
       "      <td>0.000000</td>\n",
       "    </tr>\n",
       "    <tr>\n",
       "      <th>25%</th>\n",
       "      <td>25006.750000</td>\n",
       "      <td>48.000000</td>\n",
       "      <td>1.000000</td>\n",
       "      <td>159.000000</td>\n",
       "      <td>65.000000</td>\n",
       "      <td>120.000000</td>\n",
       "      <td>80.000000</td>\n",
       "      <td>1.000000</td>\n",
       "      <td>0.000000</td>\n",
       "    </tr>\n",
       "    <tr>\n",
       "      <th>50%</th>\n",
       "      <td>50001.500000</td>\n",
       "      <td>54.000000</td>\n",
       "      <td>1.000000</td>\n",
       "      <td>165.000000</td>\n",
       "      <td>72.000000</td>\n",
       "      <td>120.000000</td>\n",
       "      <td>80.000000</td>\n",
       "      <td>1.000000</td>\n",
       "      <td>0.000000</td>\n",
       "    </tr>\n",
       "    <tr>\n",
       "      <th>75%</th>\n",
       "      <td>74889.250000</td>\n",
       "      <td>58.000000</td>\n",
       "      <td>2.000000</td>\n",
       "      <td>170.000000</td>\n",
       "      <td>82.000000</td>\n",
       "      <td>140.000000</td>\n",
       "      <td>90.000000</td>\n",
       "      <td>2.000000</td>\n",
       "      <td>0.000000</td>\n",
       "    </tr>\n",
       "    <tr>\n",
       "      <th>max</th>\n",
       "      <td>99999.000000</td>\n",
       "      <td>65.000000</td>\n",
       "      <td>2.000000</td>\n",
       "      <td>250.000000</td>\n",
       "      <td>200.000000</td>\n",
       "      <td>16020.000000</td>\n",
       "      <td>11000.000000</td>\n",
       "      <td>3.000000</td>\n",
       "      <td>1.000000</td>\n",
       "    </tr>\n",
       "  </tbody>\n",
       "</table>\n",
       "</div>"
      ]
     },
     "execution_count": 5,
     "metadata": {},
     "output_type": "execute_result"
    }
   ],
   "execution_count": 5
  },
  {
   "metadata": {
    "ExecuteTime": {
     "end_time": "2024-07-05T10:26:10.730937Z",
     "start_time": "2024-07-05T10:26:10.714518Z"
    }
   },
   "cell_type": "code",
   "source": [
    "age_groups = [(g, df[\"weight\"].mean()) for g, df in cardio_base.groupby(\"age\")]\n",
    "pd.DataFrame(age_groups)"
   ],
   "id": "f6f8743ef57c8a5a",
   "outputs": [
    {
     "data": {
      "text/plain": [
       "       0          1\n",
       "0   30.0  67.250000\n",
       "1   39.0  73.633985\n",
       "2   40.0  71.452852\n",
       "3   41.0  72.883812\n",
       "4   42.0  72.074009\n",
       "5   43.0  73.456522\n",
       "6   44.0  73.483468\n",
       "7   45.0  74.083223\n",
       "8   46.0  73.481083\n",
       "9   47.0  74.029443\n",
       "10  48.0  74.597079\n",
       "11  49.0  73.549008\n",
       "12  50.0  73.577710\n",
       "13  51.0  74.145957\n",
       "14  52.0  74.296832\n",
       "15  53.0  74.043781\n",
       "16  54.0  74.308550\n",
       "17  55.0  74.684646\n",
       "18  56.0  74.843565\n",
       "19  57.0  74.206956\n",
       "20  58.0  74.957103\n",
       "21  59.0  75.171734\n",
       "22  60.0  74.677918\n",
       "23  61.0  75.082637\n",
       "24  62.0  74.779272\n",
       "25  63.0  74.840551\n",
       "26  64.0  75.412500\n",
       "27  65.0  73.512784"
      ],
      "text/html": [
       "<div>\n",
       "<style scoped>\n",
       "    .dataframe tbody tr th:only-of-type {\n",
       "        vertical-align: middle;\n",
       "    }\n",
       "\n",
       "    .dataframe tbody tr th {\n",
       "        vertical-align: top;\n",
       "    }\n",
       "\n",
       "    .dataframe thead th {\n",
       "        text-align: right;\n",
       "    }\n",
       "</style>\n",
       "<table border=\"1\" class=\"dataframe\">\n",
       "  <thead>\n",
       "    <tr style=\"text-align: right;\">\n",
       "      <th></th>\n",
       "      <th>0</th>\n",
       "      <th>1</th>\n",
       "    </tr>\n",
       "  </thead>\n",
       "  <tbody>\n",
       "    <tr>\n",
       "      <th>0</th>\n",
       "      <td>30.0</td>\n",
       "      <td>67.250000</td>\n",
       "    </tr>\n",
       "    <tr>\n",
       "      <th>1</th>\n",
       "      <td>39.0</td>\n",
       "      <td>73.633985</td>\n",
       "    </tr>\n",
       "    <tr>\n",
       "      <th>2</th>\n",
       "      <td>40.0</td>\n",
       "      <td>71.452852</td>\n",
       "    </tr>\n",
       "    <tr>\n",
       "      <th>3</th>\n",
       "      <td>41.0</td>\n",
       "      <td>72.883812</td>\n",
       "    </tr>\n",
       "    <tr>\n",
       "      <th>4</th>\n",
       "      <td>42.0</td>\n",
       "      <td>72.074009</td>\n",
       "    </tr>\n",
       "    <tr>\n",
       "      <th>5</th>\n",
       "      <td>43.0</td>\n",
       "      <td>73.456522</td>\n",
       "    </tr>\n",
       "    <tr>\n",
       "      <th>6</th>\n",
       "      <td>44.0</td>\n",
       "      <td>73.483468</td>\n",
       "    </tr>\n",
       "    <tr>\n",
       "      <th>7</th>\n",
       "      <td>45.0</td>\n",
       "      <td>74.083223</td>\n",
       "    </tr>\n",
       "    <tr>\n",
       "      <th>8</th>\n",
       "      <td>46.0</td>\n",
       "      <td>73.481083</td>\n",
       "    </tr>\n",
       "    <tr>\n",
       "      <th>9</th>\n",
       "      <td>47.0</td>\n",
       "      <td>74.029443</td>\n",
       "    </tr>\n",
       "    <tr>\n",
       "      <th>10</th>\n",
       "      <td>48.0</td>\n",
       "      <td>74.597079</td>\n",
       "    </tr>\n",
       "    <tr>\n",
       "      <th>11</th>\n",
       "      <td>49.0</td>\n",
       "      <td>73.549008</td>\n",
       "    </tr>\n",
       "    <tr>\n",
       "      <th>12</th>\n",
       "      <td>50.0</td>\n",
       "      <td>73.577710</td>\n",
       "    </tr>\n",
       "    <tr>\n",
       "      <th>13</th>\n",
       "      <td>51.0</td>\n",
       "      <td>74.145957</td>\n",
       "    </tr>\n",
       "    <tr>\n",
       "      <th>14</th>\n",
       "      <td>52.0</td>\n",
       "      <td>74.296832</td>\n",
       "    </tr>\n",
       "    <tr>\n",
       "      <th>15</th>\n",
       "      <td>53.0</td>\n",
       "      <td>74.043781</td>\n",
       "    </tr>\n",
       "    <tr>\n",
       "      <th>16</th>\n",
       "      <td>54.0</td>\n",
       "      <td>74.308550</td>\n",
       "    </tr>\n",
       "    <tr>\n",
       "      <th>17</th>\n",
       "      <td>55.0</td>\n",
       "      <td>74.684646</td>\n",
       "    </tr>\n",
       "    <tr>\n",
       "      <th>18</th>\n",
       "      <td>56.0</td>\n",
       "      <td>74.843565</td>\n",
       "    </tr>\n",
       "    <tr>\n",
       "      <th>19</th>\n",
       "      <td>57.0</td>\n",
       "      <td>74.206956</td>\n",
       "    </tr>\n",
       "    <tr>\n",
       "      <th>20</th>\n",
       "      <td>58.0</td>\n",
       "      <td>74.957103</td>\n",
       "    </tr>\n",
       "    <tr>\n",
       "      <th>21</th>\n",
       "      <td>59.0</td>\n",
       "      <td>75.171734</td>\n",
       "    </tr>\n",
       "    <tr>\n",
       "      <th>22</th>\n",
       "      <td>60.0</td>\n",
       "      <td>74.677918</td>\n",
       "    </tr>\n",
       "    <tr>\n",
       "      <th>23</th>\n",
       "      <td>61.0</td>\n",
       "      <td>75.082637</td>\n",
       "    </tr>\n",
       "    <tr>\n",
       "      <th>24</th>\n",
       "      <td>62.0</td>\n",
       "      <td>74.779272</td>\n",
       "    </tr>\n",
       "    <tr>\n",
       "      <th>25</th>\n",
       "      <td>63.0</td>\n",
       "      <td>74.840551</td>\n",
       "    </tr>\n",
       "    <tr>\n",
       "      <th>26</th>\n",
       "      <td>64.0</td>\n",
       "      <td>75.412500</td>\n",
       "    </tr>\n",
       "    <tr>\n",
       "      <th>27</th>\n",
       "      <td>65.0</td>\n",
       "      <td>73.512784</td>\n",
       "    </tr>\n",
       "  </tbody>\n",
       "</table>\n",
       "</div>"
      ]
     },
     "execution_count": 6,
     "metadata": {},
     "output_type": "execute_result"
    }
   ],
   "execution_count": 6
  },
  {
   "metadata": {
    "ExecuteTime": {
     "end_time": "2024-07-05T10:26:10.735764Z",
     "start_time": "2024-07-05T10:26:10.731724Z"
    }
   },
   "cell_type": "code",
   "source": "(pd.DataFrame(age_groups)[1].max() - pd.DataFrame(age_groups)[1].min())/pd.DataFrame(age_groups)[1].min()",
   "id": "8c6d4b8e52885688",
   "outputs": [
    {
     "data": {
      "text/plain": [
       "0.12137546468401479"
      ]
     },
     "execution_count": 7,
     "metadata": {},
     "output_type": "execute_result"
    }
   ],
   "execution_count": 7
  },
  {
   "metadata": {
    "ExecuteTime": {
     "end_time": "2024-07-05T10:26:10.750628Z",
     "start_time": "2024-07-05T10:26:10.737322Z"
    }
   },
   "cell_type": "code",
   "source": "cardio_base.loc[cardio_base[\"age\"] >= 50, \"cholesterol\"].mean() - cardio_base[\"cholesterol\"].mean()\n",
   "id": "b3bff1cb0de3ee73",
   "outputs": [
    {
     "data": {
      "text/plain": [
       "0.04873021822570722"
      ]
     },
     "execution_count": 8,
     "metadata": {},
     "output_type": "execute_result"
    }
   ],
   "execution_count": 8
  },
  {
   "metadata": {
    "ExecuteTime": {
     "end_time": "2024-07-05T10:26:10.759481Z",
     "start_time": "2024-07-05T10:26:10.751474Z"
    }
   },
   "cell_type": "code",
   "source": "cardio_base[\"cholesterol\"].mean()",
   "id": "9ac7533a36c2db0f",
   "outputs": [
    {
     "data": {
      "text/plain": [
       "1.3668714285714285"
      ]
     },
     "execution_count": 9,
     "metadata": {},
     "output_type": "execute_result"
    }
   ],
   "execution_count": 9
  },
  {
   "metadata": {
    "ExecuteTime": {
     "end_time": "2024-07-05T10:26:10.771118Z",
     "start_time": "2024-07-05T10:26:10.760393Z"
    }
   },
   "cell_type": "code",
   "source": "100 *((1.4156016467971357-1.3668714285714285)/1.3668714285714285)",
   "id": "626ec88110f91959",
   "outputs": [
    {
     "data": {
      "text/plain": [
       "3.5650915811911514"
      ]
     },
     "execution_count": 10,
     "metadata": {},
     "output_type": "execute_result"
    }
   ],
   "execution_count": 10
  },
  {
   "metadata": {
    "ExecuteTime": {
     "end_time": "2024-07-05T10:26:10.783642Z",
     "start_time": "2024-07-05T10:26:10.773242Z"
    }
   },
   "cell_type": "code",
   "source": "cardio_base.loc[cardio_base[\"gender\"] == 1, \"smoke\"].mean()",
   "id": "f940a714039d1dc8",
   "outputs": [
    {
     "data": {
      "text/plain": [
       "0.017856358444981332"
      ]
     },
     "execution_count": 11,
     "metadata": {},
     "output_type": "execute_result"
    }
   ],
   "execution_count": 11
  },
  {
   "metadata": {
    "ExecuteTime": {
     "end_time": "2024-07-05T10:26:10.797986Z",
     "start_time": "2024-07-05T10:26:10.784451Z"
    }
   },
   "cell_type": "code",
   "source": "cardio_base.loc[cardio_base[\"gender\"] == 2, \"smoke\"].mean()/cardio_base.loc[cardio_base[\"gender\"] == 1, \"smoke\"].mean()",
   "id": "106631a35ac30245",
   "outputs": [
    {
     "data": {
      "text/plain": [
       "12.257833097333833"
      ]
     },
     "execution_count": 12,
     "metadata": {},
     "output_type": "execute_result"
    }
   ],
   "execution_count": 12
  },
  {
   "metadata": {
    "ExecuteTime": {
     "end_time": "2024-07-05T10:26:10.807849Z",
     "start_time": "2024-07-05T10:26:10.799019Z"
    }
   },
   "cell_type": "code",
   "source": "cardio_base[\"height\"].quantile(0.99)",
   "id": "44d04a6f636a263a",
   "outputs": [
    {
     "data": {
      "text/plain": [
       "184.0"
      ]
     },
     "execution_count": 13,
     "metadata": {},
     "output_type": "execute_result"
    }
   ],
   "execution_count": 13
  },
  {
   "metadata": {
    "ExecuteTime": {
     "end_time": "2024-07-05T10:26:10.859765Z",
     "start_time": "2024-07-05T10:26:10.808802Z"
    }
   },
   "cell_type": "code",
   "source": "corr_df = cardio_base.corr(method =\"spearman\")",
   "id": "68fab6aa5f185d5a",
   "outputs": [],
   "execution_count": 14
  },
  {
   "metadata": {
    "ExecuteTime": {
     "end_time": "2024-07-05T10:26:10.870083Z",
     "start_time": "2024-07-05T10:26:10.860645Z"
    }
   },
   "cell_type": "code",
   "source": "corr_df",
   "id": "d5dcf8ea674f55ea",
   "outputs": [
    {
     "data": {
      "text/plain": [
       "                   id       age    gender    height    weight     ap_hi  \\\n",
       "id           1.000000  0.002399  0.003506 -0.001886 -0.001292  0.003258   \n",
       "age          0.002399  1.000000 -0.020697 -0.083634  0.062979  0.220780   \n",
       "gender       0.003506 -0.020697  1.000000  0.533805  0.172480  0.063174   \n",
       "height      -0.001886 -0.083634  0.533805  1.000000  0.313569  0.019381   \n",
       "weight      -0.001292  0.062979  0.172480  0.313569  1.000000  0.277749   \n",
       "ap_hi        0.003258  0.220780  0.063174  0.019381  0.277749  1.000000   \n",
       "ap_lo       -0.000238  0.157957  0.066374  0.030534  0.254420  0.735436   \n",
       "cholesterol  0.005706  0.141935 -0.035730 -0.058940  0.137908  0.208722   \n",
       "smoke       -0.003697 -0.047535  0.338135  0.197632  0.071676  0.028929   \n",
       "\n",
       "                ap_lo  cholesterol     smoke  \n",
       "id          -0.000238     0.005706 -0.003697  \n",
       "age          0.157957     0.141935 -0.047535  \n",
       "gender       0.066374    -0.035730  0.338135  \n",
       "height       0.030534    -0.058940  0.197632  \n",
       "weight       0.254420     0.137908  0.071676  \n",
       "ap_hi        0.735436     0.208722  0.028929  \n",
       "ap_lo        1.000000     0.167401  0.026172  \n",
       "cholesterol  0.167401     1.000000  0.015220  \n",
       "smoke        0.026172     0.015220  1.000000  "
      ],
      "text/html": [
       "<div>\n",
       "<style scoped>\n",
       "    .dataframe tbody tr th:only-of-type {\n",
       "        vertical-align: middle;\n",
       "    }\n",
       "\n",
       "    .dataframe tbody tr th {\n",
       "        vertical-align: top;\n",
       "    }\n",
       "\n",
       "    .dataframe thead th {\n",
       "        text-align: right;\n",
       "    }\n",
       "</style>\n",
       "<table border=\"1\" class=\"dataframe\">\n",
       "  <thead>\n",
       "    <tr style=\"text-align: right;\">\n",
       "      <th></th>\n",
       "      <th>id</th>\n",
       "      <th>age</th>\n",
       "      <th>gender</th>\n",
       "      <th>height</th>\n",
       "      <th>weight</th>\n",
       "      <th>ap_hi</th>\n",
       "      <th>ap_lo</th>\n",
       "      <th>cholesterol</th>\n",
       "      <th>smoke</th>\n",
       "    </tr>\n",
       "  </thead>\n",
       "  <tbody>\n",
       "    <tr>\n",
       "      <th>id</th>\n",
       "      <td>1.000000</td>\n",
       "      <td>0.002399</td>\n",
       "      <td>0.003506</td>\n",
       "      <td>-0.001886</td>\n",
       "      <td>-0.001292</td>\n",
       "      <td>0.003258</td>\n",
       "      <td>-0.000238</td>\n",
       "      <td>0.005706</td>\n",
       "      <td>-0.003697</td>\n",
       "    </tr>\n",
       "    <tr>\n",
       "      <th>age</th>\n",
       "      <td>0.002399</td>\n",
       "      <td>1.000000</td>\n",
       "      <td>-0.020697</td>\n",
       "      <td>-0.083634</td>\n",
       "      <td>0.062979</td>\n",
       "      <td>0.220780</td>\n",
       "      <td>0.157957</td>\n",
       "      <td>0.141935</td>\n",
       "      <td>-0.047535</td>\n",
       "    </tr>\n",
       "    <tr>\n",
       "      <th>gender</th>\n",
       "      <td>0.003506</td>\n",
       "      <td>-0.020697</td>\n",
       "      <td>1.000000</td>\n",
       "      <td>0.533805</td>\n",
       "      <td>0.172480</td>\n",
       "      <td>0.063174</td>\n",
       "      <td>0.066374</td>\n",
       "      <td>-0.035730</td>\n",
       "      <td>0.338135</td>\n",
       "    </tr>\n",
       "    <tr>\n",
       "      <th>height</th>\n",
       "      <td>-0.001886</td>\n",
       "      <td>-0.083634</td>\n",
       "      <td>0.533805</td>\n",
       "      <td>1.000000</td>\n",
       "      <td>0.313569</td>\n",
       "      <td>0.019381</td>\n",
       "      <td>0.030534</td>\n",
       "      <td>-0.058940</td>\n",
       "      <td>0.197632</td>\n",
       "    </tr>\n",
       "    <tr>\n",
       "      <th>weight</th>\n",
       "      <td>-0.001292</td>\n",
       "      <td>0.062979</td>\n",
       "      <td>0.172480</td>\n",
       "      <td>0.313569</td>\n",
       "      <td>1.000000</td>\n",
       "      <td>0.277749</td>\n",
       "      <td>0.254420</td>\n",
       "      <td>0.137908</td>\n",
       "      <td>0.071676</td>\n",
       "    </tr>\n",
       "    <tr>\n",
       "      <th>ap_hi</th>\n",
       "      <td>0.003258</td>\n",
       "      <td>0.220780</td>\n",
       "      <td>0.063174</td>\n",
       "      <td>0.019381</td>\n",
       "      <td>0.277749</td>\n",
       "      <td>1.000000</td>\n",
       "      <td>0.735436</td>\n",
       "      <td>0.208722</td>\n",
       "      <td>0.028929</td>\n",
       "    </tr>\n",
       "    <tr>\n",
       "      <th>ap_lo</th>\n",
       "      <td>-0.000238</td>\n",
       "      <td>0.157957</td>\n",
       "      <td>0.066374</td>\n",
       "      <td>0.030534</td>\n",
       "      <td>0.254420</td>\n",
       "      <td>0.735436</td>\n",
       "      <td>1.000000</td>\n",
       "      <td>0.167401</td>\n",
       "      <td>0.026172</td>\n",
       "    </tr>\n",
       "    <tr>\n",
       "      <th>cholesterol</th>\n",
       "      <td>0.005706</td>\n",
       "      <td>0.141935</td>\n",
       "      <td>-0.035730</td>\n",
       "      <td>-0.058940</td>\n",
       "      <td>0.137908</td>\n",
       "      <td>0.208722</td>\n",
       "      <td>0.167401</td>\n",
       "      <td>1.000000</td>\n",
       "      <td>0.015220</td>\n",
       "    </tr>\n",
       "    <tr>\n",
       "      <th>smoke</th>\n",
       "      <td>-0.003697</td>\n",
       "      <td>-0.047535</td>\n",
       "      <td>0.338135</td>\n",
       "      <td>0.197632</td>\n",
       "      <td>0.071676</td>\n",
       "      <td>0.028929</td>\n",
       "      <td>0.026172</td>\n",
       "      <td>0.015220</td>\n",
       "      <td>1.000000</td>\n",
       "    </tr>\n",
       "  </tbody>\n",
       "</table>\n",
       "</div>"
      ]
     },
     "execution_count": 15,
     "metadata": {},
     "output_type": "execute_result"
    }
   ],
   "execution_count": 15
  },
  {
   "metadata": {
    "ExecuteTime": {
     "end_time": "2024-07-05T10:26:10.882773Z",
     "start_time": "2024-07-05T10:26:10.871065Z"
    }
   },
   "cell_type": "code",
   "source": [
    "import numpy as np\n",
    "height_std = cardio_base[\"height\"].std()\n",
    "height_mean = cardio_base[\"height\"].mean()\n",
    "height_zscore = (cardio_base[\"height\"] - height_mean) / height_std\n",
    "100 * (len(height_zscore.values) - len(np.where(height_zscore.values < 2)[0]))/len(height_zscore.values)"
   ],
   "id": "8af225f267568c06",
   "outputs": [
    {
     "data": {
      "text/plain": [
       "2.0557142857142856"
      ]
     },
     "execution_count": 16,
     "metadata": {},
     "output_type": "execute_result"
    }
   ],
   "execution_count": 16
  },
  {
   "metadata": {
    "ExecuteTime": {
     "end_time": "2024-07-05T10:26:10.932959Z",
     "start_time": "2024-07-05T10:26:10.883678Z"
    }
   },
   "cell_type": "code",
   "source": [
    "cardio_merged = pd.merge(cardio_base, cardio_alco, on=\"id\", how=\"outer\")\n",
    "cardio_merged = cardio_merged[cardio_merged[\"age\"] >= 50]\n",
    "cardio_merged.describe()"
   ],
   "id": "e388930eaa916c94",
   "outputs": [
    {
     "data": {
      "text/plain": [
       "                 id           age        gender        height        weight  \\\n",
       "count  51251.000000  51251.000000  51251.000000  51251.000000  51251.000000   \n",
       "mean   50029.452342     56.640631      1.336910    164.016566     74.570140   \n",
       "std    28822.977090      4.305801      0.472659      8.180535     14.257811   \n",
       "min        0.000000     50.000000      1.000000     55.000000     10.000000   \n",
       "25%    25105.500000     53.000000      1.000000    158.000000     65.000000   \n",
       "50%    50130.000000     56.000000      1.000000    164.000000     72.000000   \n",
       "75%    74867.500000     60.000000      2.000000    169.000000     82.000000   \n",
       "max    99999.000000     65.000000      2.000000    250.000000    183.000000   \n",
       "\n",
       "              ap_hi         ap_lo   cholesterol         smoke          alco  \n",
       "count  51251.000000  51251.000000  51251.000000  51251.000000  41695.000000  \n",
       "mean     130.212113     98.834950      1.415602      0.080584      0.050030  \n",
       "std      139.885201    202.791908      0.720050      0.272198      0.218009  \n",
       "min     -150.000000    -70.000000      1.000000      0.000000      0.000000  \n",
       "25%      120.000000     80.000000      1.000000      0.000000      0.000000  \n",
       "50%      120.000000     80.000000      1.000000      0.000000      0.000000  \n",
       "75%      140.000000     90.000000      2.000000      0.000000      0.000000  \n",
       "max    14020.000000  11000.000000      3.000000      1.000000      1.000000  "
      ],
      "text/html": [
       "<div>\n",
       "<style scoped>\n",
       "    .dataframe tbody tr th:only-of-type {\n",
       "        vertical-align: middle;\n",
       "    }\n",
       "\n",
       "    .dataframe tbody tr th {\n",
       "        vertical-align: top;\n",
       "    }\n",
       "\n",
       "    .dataframe thead th {\n",
       "        text-align: right;\n",
       "    }\n",
       "</style>\n",
       "<table border=\"1\" class=\"dataframe\">\n",
       "  <thead>\n",
       "    <tr style=\"text-align: right;\">\n",
       "      <th></th>\n",
       "      <th>id</th>\n",
       "      <th>age</th>\n",
       "      <th>gender</th>\n",
       "      <th>height</th>\n",
       "      <th>weight</th>\n",
       "      <th>ap_hi</th>\n",
       "      <th>ap_lo</th>\n",
       "      <th>cholesterol</th>\n",
       "      <th>smoke</th>\n",
       "      <th>alco</th>\n",
       "    </tr>\n",
       "  </thead>\n",
       "  <tbody>\n",
       "    <tr>\n",
       "      <th>count</th>\n",
       "      <td>51251.000000</td>\n",
       "      <td>51251.000000</td>\n",
       "      <td>51251.000000</td>\n",
       "      <td>51251.000000</td>\n",
       "      <td>51251.000000</td>\n",
       "      <td>51251.000000</td>\n",
       "      <td>51251.000000</td>\n",
       "      <td>51251.000000</td>\n",
       "      <td>51251.000000</td>\n",
       "      <td>41695.000000</td>\n",
       "    </tr>\n",
       "    <tr>\n",
       "      <th>mean</th>\n",
       "      <td>50029.452342</td>\n",
       "      <td>56.640631</td>\n",
       "      <td>1.336910</td>\n",
       "      <td>164.016566</td>\n",
       "      <td>74.570140</td>\n",
       "      <td>130.212113</td>\n",
       "      <td>98.834950</td>\n",
       "      <td>1.415602</td>\n",
       "      <td>0.080584</td>\n",
       "      <td>0.050030</td>\n",
       "    </tr>\n",
       "    <tr>\n",
       "      <th>std</th>\n",
       "      <td>28822.977090</td>\n",
       "      <td>4.305801</td>\n",
       "      <td>0.472659</td>\n",
       "      <td>8.180535</td>\n",
       "      <td>14.257811</td>\n",
       "      <td>139.885201</td>\n",
       "      <td>202.791908</td>\n",
       "      <td>0.720050</td>\n",
       "      <td>0.272198</td>\n",
       "      <td>0.218009</td>\n",
       "    </tr>\n",
       "    <tr>\n",
       "      <th>min</th>\n",
       "      <td>0.000000</td>\n",
       "      <td>50.000000</td>\n",
       "      <td>1.000000</td>\n",
       "      <td>55.000000</td>\n",
       "      <td>10.000000</td>\n",
       "      <td>-150.000000</td>\n",
       "      <td>-70.000000</td>\n",
       "      <td>1.000000</td>\n",
       "      <td>0.000000</td>\n",
       "      <td>0.000000</td>\n",
       "    </tr>\n",
       "    <tr>\n",
       "      <th>25%</th>\n",
       "      <td>25105.500000</td>\n",
       "      <td>53.000000</td>\n",
       "      <td>1.000000</td>\n",
       "      <td>158.000000</td>\n",
       "      <td>65.000000</td>\n",
       "      <td>120.000000</td>\n",
       "      <td>80.000000</td>\n",
       "      <td>1.000000</td>\n",
       "      <td>0.000000</td>\n",
       "      <td>0.000000</td>\n",
       "    </tr>\n",
       "    <tr>\n",
       "      <th>50%</th>\n",
       "      <td>50130.000000</td>\n",
       "      <td>56.000000</td>\n",
       "      <td>1.000000</td>\n",
       "      <td>164.000000</td>\n",
       "      <td>72.000000</td>\n",
       "      <td>120.000000</td>\n",
       "      <td>80.000000</td>\n",
       "      <td>1.000000</td>\n",
       "      <td>0.000000</td>\n",
       "      <td>0.000000</td>\n",
       "    </tr>\n",
       "    <tr>\n",
       "      <th>75%</th>\n",
       "      <td>74867.500000</td>\n",
       "      <td>60.000000</td>\n",
       "      <td>2.000000</td>\n",
       "      <td>169.000000</td>\n",
       "      <td>82.000000</td>\n",
       "      <td>140.000000</td>\n",
       "      <td>90.000000</td>\n",
       "      <td>2.000000</td>\n",
       "      <td>0.000000</td>\n",
       "      <td>0.000000</td>\n",
       "    </tr>\n",
       "    <tr>\n",
       "      <th>max</th>\n",
       "      <td>99999.000000</td>\n",
       "      <td>65.000000</td>\n",
       "      <td>2.000000</td>\n",
       "      <td>250.000000</td>\n",
       "      <td>183.000000</td>\n",
       "      <td>14020.000000</td>\n",
       "      <td>11000.000000</td>\n",
       "      <td>3.000000</td>\n",
       "      <td>1.000000</td>\n",
       "      <td>1.000000</td>\n",
       "    </tr>\n",
       "  </tbody>\n",
       "</table>\n",
       "</div>"
      ]
     },
     "execution_count": 17,
     "metadata": {},
     "output_type": "execute_result"
    }
   ],
   "execution_count": 17
  },
  {
   "metadata": {
    "ExecuteTime": {
     "end_time": "2024-07-05T10:26:10.945710Z",
     "start_time": "2024-07-05T10:26:10.933961Z"
    }
   },
   "cell_type": "code",
   "source": "cardio_merged[cardio_merged[\"alco\"] == 1]",
   "id": "3b8420d4a56e18ea",
   "outputs": [
    {
     "data": {
      "text/plain": [
       "          id   age  gender  height  weight  ap_hi  ap_lo  cholesterol  smoke  \\\n",
       "62        81  56.0       2     187   115.0    130     90            1      0   \n",
       "101      136  51.0       1     167    80.0    190     90            2      0   \n",
       "134      180  59.0       2     174    90.0    140     80            1      1   \n",
       "146      199  50.0       1     160    90.0    130     90            1      0   \n",
       "230      318  64.0       2     175    75.0    180    100            3      1   \n",
       "...      ...   ...     ...     ...     ...    ...    ...          ...    ...   \n",
       "69873  99799  54.0       2     188   108.0    130     80            2      0   \n",
       "69909  99858  53.0       2     171    65.0    120     80            1      1   \n",
       "69915  99864  60.0       2     178   102.0    150    100            1      0   \n",
       "69925  99882  64.0       1     164    98.0    140     90            2      0   \n",
       "69950  99933  52.0       2     167    74.0    130     80            1      1   \n",
       "\n",
       "       alco  \n",
       "62      1.0  \n",
       "101     1.0  \n",
       "134     1.0  \n",
       "146     1.0  \n",
       "230     1.0  \n",
       "...     ...  \n",
       "69873   1.0  \n",
       "69909   1.0  \n",
       "69915   1.0  \n",
       "69925   1.0  \n",
       "69950   1.0  \n",
       "\n",
       "[2086 rows x 10 columns]"
      ],
      "text/html": [
       "<div>\n",
       "<style scoped>\n",
       "    .dataframe tbody tr th:only-of-type {\n",
       "        vertical-align: middle;\n",
       "    }\n",
       "\n",
       "    .dataframe tbody tr th {\n",
       "        vertical-align: top;\n",
       "    }\n",
       "\n",
       "    .dataframe thead th {\n",
       "        text-align: right;\n",
       "    }\n",
       "</style>\n",
       "<table border=\"1\" class=\"dataframe\">\n",
       "  <thead>\n",
       "    <tr style=\"text-align: right;\">\n",
       "      <th></th>\n",
       "      <th>id</th>\n",
       "      <th>age</th>\n",
       "      <th>gender</th>\n",
       "      <th>height</th>\n",
       "      <th>weight</th>\n",
       "      <th>ap_hi</th>\n",
       "      <th>ap_lo</th>\n",
       "      <th>cholesterol</th>\n",
       "      <th>smoke</th>\n",
       "      <th>alco</th>\n",
       "    </tr>\n",
       "  </thead>\n",
       "  <tbody>\n",
       "    <tr>\n",
       "      <th>62</th>\n",
       "      <td>81</td>\n",
       "      <td>56.0</td>\n",
       "      <td>2</td>\n",
       "      <td>187</td>\n",
       "      <td>115.0</td>\n",
       "      <td>130</td>\n",
       "      <td>90</td>\n",
       "      <td>1</td>\n",
       "      <td>0</td>\n",
       "      <td>1.0</td>\n",
       "    </tr>\n",
       "    <tr>\n",
       "      <th>101</th>\n",
       "      <td>136</td>\n",
       "      <td>51.0</td>\n",
       "      <td>1</td>\n",
       "      <td>167</td>\n",
       "      <td>80.0</td>\n",
       "      <td>190</td>\n",
       "      <td>90</td>\n",
       "      <td>2</td>\n",
       "      <td>0</td>\n",
       "      <td>1.0</td>\n",
       "    </tr>\n",
       "    <tr>\n",
       "      <th>134</th>\n",
       "      <td>180</td>\n",
       "      <td>59.0</td>\n",
       "      <td>2</td>\n",
       "      <td>174</td>\n",
       "      <td>90.0</td>\n",
       "      <td>140</td>\n",
       "      <td>80</td>\n",
       "      <td>1</td>\n",
       "      <td>1</td>\n",
       "      <td>1.0</td>\n",
       "    </tr>\n",
       "    <tr>\n",
       "      <th>146</th>\n",
       "      <td>199</td>\n",
       "      <td>50.0</td>\n",
       "      <td>1</td>\n",
       "      <td>160</td>\n",
       "      <td>90.0</td>\n",
       "      <td>130</td>\n",
       "      <td>90</td>\n",
       "      <td>1</td>\n",
       "      <td>0</td>\n",
       "      <td>1.0</td>\n",
       "    </tr>\n",
       "    <tr>\n",
       "      <th>230</th>\n",
       "      <td>318</td>\n",
       "      <td>64.0</td>\n",
       "      <td>2</td>\n",
       "      <td>175</td>\n",
       "      <td>75.0</td>\n",
       "      <td>180</td>\n",
       "      <td>100</td>\n",
       "      <td>3</td>\n",
       "      <td>1</td>\n",
       "      <td>1.0</td>\n",
       "    </tr>\n",
       "    <tr>\n",
       "      <th>...</th>\n",
       "      <td>...</td>\n",
       "      <td>...</td>\n",
       "      <td>...</td>\n",
       "      <td>...</td>\n",
       "      <td>...</td>\n",
       "      <td>...</td>\n",
       "      <td>...</td>\n",
       "      <td>...</td>\n",
       "      <td>...</td>\n",
       "      <td>...</td>\n",
       "    </tr>\n",
       "    <tr>\n",
       "      <th>69873</th>\n",
       "      <td>99799</td>\n",
       "      <td>54.0</td>\n",
       "      <td>2</td>\n",
       "      <td>188</td>\n",
       "      <td>108.0</td>\n",
       "      <td>130</td>\n",
       "      <td>80</td>\n",
       "      <td>2</td>\n",
       "      <td>0</td>\n",
       "      <td>1.0</td>\n",
       "    </tr>\n",
       "    <tr>\n",
       "      <th>69909</th>\n",
       "      <td>99858</td>\n",
       "      <td>53.0</td>\n",
       "      <td>2</td>\n",
       "      <td>171</td>\n",
       "      <td>65.0</td>\n",
       "      <td>120</td>\n",
       "      <td>80</td>\n",
       "      <td>1</td>\n",
       "      <td>1</td>\n",
       "      <td>1.0</td>\n",
       "    </tr>\n",
       "    <tr>\n",
       "      <th>69915</th>\n",
       "      <td>99864</td>\n",
       "      <td>60.0</td>\n",
       "      <td>2</td>\n",
       "      <td>178</td>\n",
       "      <td>102.0</td>\n",
       "      <td>150</td>\n",
       "      <td>100</td>\n",
       "      <td>1</td>\n",
       "      <td>0</td>\n",
       "      <td>1.0</td>\n",
       "    </tr>\n",
       "    <tr>\n",
       "      <th>69925</th>\n",
       "      <td>99882</td>\n",
       "      <td>64.0</td>\n",
       "      <td>1</td>\n",
       "      <td>164</td>\n",
       "      <td>98.0</td>\n",
       "      <td>140</td>\n",
       "      <td>90</td>\n",
       "      <td>2</td>\n",
       "      <td>0</td>\n",
       "      <td>1.0</td>\n",
       "    </tr>\n",
       "    <tr>\n",
       "      <th>69950</th>\n",
       "      <td>99933</td>\n",
       "      <td>52.0</td>\n",
       "      <td>2</td>\n",
       "      <td>167</td>\n",
       "      <td>74.0</td>\n",
       "      <td>130</td>\n",
       "      <td>80</td>\n",
       "      <td>1</td>\n",
       "      <td>1</td>\n",
       "      <td>1.0</td>\n",
       "    </tr>\n",
       "  </tbody>\n",
       "</table>\n",
       "<p>2086 rows × 10 columns</p>\n",
       "</div>"
      ]
     },
     "execution_count": 18,
     "metadata": {},
     "output_type": "execute_result"
    }
   ],
   "execution_count": 18
  },
  {
   "metadata": {
    "ExecuteTime": {
     "end_time": "2024-07-05T10:26:11.181956Z",
     "start_time": "2024-07-05T10:26:10.946626Z"
    }
   },
   "cell_type": "code",
   "source": [
    "from scipy import stats\n",
    "smoker_s_weight = cardio_base.loc[cardio_base[\"smoke\"] == 1, \"weight\"]\n",
    "non_smoker_s_weight = cardio_base.loc[cardio_base[\"smoke\"] != 1, \"weight\"]\n",
    "t_stat, p_value = stats.ttest_ind(smoker_s_weight, non_smoker_s_weight)\n",
    "t_stat, p_value"
   ],
   "id": "3e093863c28a846b",
   "outputs": [
    {
     "data": {
      "text/plain": [
       "(17.974105126565, 4.517830901143157e-72)"
      ]
     },
     "execution_count": 19,
     "metadata": {},
     "output_type": "execute_result"
    }
   ],
   "execution_count": 19
  },
  {
   "metadata": {
    "ExecuteTime": {
     "end_time": "2024-07-05T10:26:11.190594Z",
     "start_time": "2024-07-05T10:26:11.182768Z"
    }
   },
   "cell_type": "code",
   "source": [
    "smoker_s_c = cardio_base.loc[cardio_base[\"smoke\"] == 1, \"cholesterol\"]\n",
    "non_smoker_s_c = cardio_base.loc[cardio_base[\"smoke\"] != 1, \"cholesterol\"]\n",
    "t_stat, p_value = stats.ttest_ind(smoker_s_c, non_smoker_s_c)\n",
    "t_stat, p_value"
   ],
   "id": "5b3f7877f3337db8",
   "outputs": [
    {
     "data": {
      "text/plain": [
       "(2.7396284742488923, 0.006152424413599285)"
      ]
     },
     "execution_count": 20,
     "metadata": {},
     "output_type": "execute_result"
    }
   ],
   "execution_count": 20
  },
  {
   "metadata": {
    "ExecuteTime": {
     "end_time": "2024-07-05T10:26:11.230666Z",
     "start_time": "2024-07-05T10:26:11.191421Z"
    }
   },
   "cell_type": "code",
   "source": [
    "smoker_s_blood_p = cardio_base.loc[cardio_base[\"smoke\"] == 1, \"ap_hi\"]\n",
    "non_smoker_s_blood_p = cardio_base.loc[cardio_base[\"smoke\"] != 1, \"ap_hi\"]\n",
    "t_stat, p_value = stats.ttest_ind(smoker_s_blood_p, non_smoker_s_blood_p)\n",
    "t_stat, p_value"
   ],
   "id": "ac9eeafc6668298",
   "outputs": [
    {
     "data": {
      "text/plain": [
       "(-0.24394145890090257, 0.8072768742643271)"
      ]
     },
     "execution_count": 21,
     "metadata": {},
     "output_type": "execute_result"
    }
   ],
   "execution_count": 21
  },
  {
   "metadata": {
    "ExecuteTime": {
     "end_time": "2024-07-05T10:26:11.243157Z",
     "start_time": "2024-07-05T10:26:11.231668Z"
    }
   },
   "cell_type": "code",
   "source": [
    "smoker_s_blood_p = cardio_base.loc[cardio_base[\"smoke\"] == 1, \"ap_lo\"]\n",
    "non_smoker_s_blood_p = cardio_base.loc[cardio_base[\"smoke\"] != 1, \"ap_lo\"]\n",
    "t_stat, p_value = stats.ttest_ind(smoker_s_blood_p, non_smoker_s_blood_p)\n",
    "t_stat, p_value"
   ],
   "id": "f28effbd9508d628",
   "outputs": [
    {
     "data": {
      "text/plain": [
       "(1.372119976655746, 0.1700304886397662)"
      ]
     },
     "execution_count": 22,
     "metadata": {},
     "output_type": "execute_result"
    }
   ],
   "execution_count": 22
  },
  {
   "metadata": {
    "ExecuteTime": {
     "end_time": "2024-07-05T10:26:11.256531Z",
     "start_time": "2024-07-05T10:26:11.244007Z"
    }
   },
   "cell_type": "code",
   "source": [
    "men_blood_p = cardio_base.loc[cardio_base[\"gender\"] == 1, \"ap_lo\"]\n",
    "wmen_blood_p = cardio_base.loc[cardio_base[\"gender\"] != 1, \"ap_lo\"]\n",
    "t_stat, p_value = stats.ttest_ind(smoker_s_blood_p, non_smoker_s_blood_p)\n",
    "t_stat, p_value"
   ],
   "id": "981839b7a66c7572",
   "outputs": [
    {
     "data": {
      "text/plain": [
       "(1.372119976655746, 0.1700304886397662)"
      ]
     },
     "execution_count": 23,
     "metadata": {},
     "output_type": "execute_result"
    }
   ],
   "execution_count": 23
  },
  {
   "metadata": {
    "ExecuteTime": {
     "end_time": "2024-07-05T10:26:11.275326Z",
     "start_time": "2024-07-05T10:26:11.257630Z"
    }
   },
   "cell_type": "code",
   "source": "covid_data.head()",
   "id": "39cc7b6dead73741",
   "outputs": [
    {
     "data": {
      "text/plain": [
       "      location        date  new_cases  new_deaths  population  \\\n",
       "0  Afghanistan  2019-12-31          0           0  38928341.0   \n",
       "1  Afghanistan  2020-01-01          0           0  38928341.0   \n",
       "2  Afghanistan  2020-01-02          0           0  38928341.0   \n",
       "3  Afghanistan  2020-01-03          0           0  38928341.0   \n",
       "4  Afghanistan  2020-01-04          0           0  38928341.0   \n",
       "\n",
       "   aged_65_older_percent  gdp_per_capita  hospital_beds_per_thousand  \n",
       "0                  2.581        1803.987                         0.5  \n",
       "1                  2.581        1803.987                         0.5  \n",
       "2                  2.581        1803.987                         0.5  \n",
       "3                  2.581        1803.987                         0.5  \n",
       "4                  2.581        1803.987                         0.5  "
      ],
      "text/html": [
       "<div>\n",
       "<style scoped>\n",
       "    .dataframe tbody tr th:only-of-type {\n",
       "        vertical-align: middle;\n",
       "    }\n",
       "\n",
       "    .dataframe tbody tr th {\n",
       "        vertical-align: top;\n",
       "    }\n",
       "\n",
       "    .dataframe thead th {\n",
       "        text-align: right;\n",
       "    }\n",
       "</style>\n",
       "<table border=\"1\" class=\"dataframe\">\n",
       "  <thead>\n",
       "    <tr style=\"text-align: right;\">\n",
       "      <th></th>\n",
       "      <th>location</th>\n",
       "      <th>date</th>\n",
       "      <th>new_cases</th>\n",
       "      <th>new_deaths</th>\n",
       "      <th>population</th>\n",
       "      <th>aged_65_older_percent</th>\n",
       "      <th>gdp_per_capita</th>\n",
       "      <th>hospital_beds_per_thousand</th>\n",
       "    </tr>\n",
       "  </thead>\n",
       "  <tbody>\n",
       "    <tr>\n",
       "      <th>0</th>\n",
       "      <td>Afghanistan</td>\n",
       "      <td>2019-12-31</td>\n",
       "      <td>0</td>\n",
       "      <td>0</td>\n",
       "      <td>38928341.0</td>\n",
       "      <td>2.581</td>\n",
       "      <td>1803.987</td>\n",
       "      <td>0.5</td>\n",
       "    </tr>\n",
       "    <tr>\n",
       "      <th>1</th>\n",
       "      <td>Afghanistan</td>\n",
       "      <td>2020-01-01</td>\n",
       "      <td>0</td>\n",
       "      <td>0</td>\n",
       "      <td>38928341.0</td>\n",
       "      <td>2.581</td>\n",
       "      <td>1803.987</td>\n",
       "      <td>0.5</td>\n",
       "    </tr>\n",
       "    <tr>\n",
       "      <th>2</th>\n",
       "      <td>Afghanistan</td>\n",
       "      <td>2020-01-02</td>\n",
       "      <td>0</td>\n",
       "      <td>0</td>\n",
       "      <td>38928341.0</td>\n",
       "      <td>2.581</td>\n",
       "      <td>1803.987</td>\n",
       "      <td>0.5</td>\n",
       "    </tr>\n",
       "    <tr>\n",
       "      <th>3</th>\n",
       "      <td>Afghanistan</td>\n",
       "      <td>2020-01-03</td>\n",
       "      <td>0</td>\n",
       "      <td>0</td>\n",
       "      <td>38928341.0</td>\n",
       "      <td>2.581</td>\n",
       "      <td>1803.987</td>\n",
       "      <td>0.5</td>\n",
       "    </tr>\n",
       "    <tr>\n",
       "      <th>4</th>\n",
       "      <td>Afghanistan</td>\n",
       "      <td>2020-01-04</td>\n",
       "      <td>0</td>\n",
       "      <td>0</td>\n",
       "      <td>38928341.0</td>\n",
       "      <td>2.581</td>\n",
       "      <td>1803.987</td>\n",
       "      <td>0.5</td>\n",
       "    </tr>\n",
       "  </tbody>\n",
       "</table>\n",
       "</div>"
      ]
     },
     "execution_count": 24,
     "metadata": {},
     "output_type": "execute_result"
    }
   ],
   "execution_count": 24
  },
  {
   "metadata": {
    "ExecuteTime": {
     "end_time": "2024-07-05T10:26:11.289638Z",
     "start_time": "2024-07-05T10:26:11.276875Z"
    }
   },
   "cell_type": "code",
   "source": [
    "german_covid = covid_data.loc[(covid_data[\"location\"] == 'Germany')]\n",
    "german_covid[\"total_cases\"] = german_covid[\"new_cases\"].cumsum()\n",
    "ital_covid = covid_data.loc[(covid_data[\"location\"] == 'Italy')]\n",
    "ital_covid[\"total_cases\"] = ital_covid[\"new_cases\"].cumsum()"
   ],
   "id": "d014d83a38fc84ae",
   "outputs": [
    {
     "name": "stderr",
     "output_type": "stream",
     "text": [
      "/tmp/ipykernel_28025/4277910716.py:2: SettingWithCopyWarning: \n",
      "A value is trying to be set on a copy of a slice from a DataFrame.\n",
      "Try using .loc[row_indexer,col_indexer] = value instead\n",
      "\n",
      "See the caveats in the documentation: https://pandas.pydata.org/pandas-docs/stable/user_guide/indexing.html#returning-a-view-versus-a-copy\n",
      "  german_covid[\"total_cases\"] = german_covid[\"new_cases\"].cumsum()\n",
      "/tmp/ipykernel_28025/4277910716.py:4: SettingWithCopyWarning: \n",
      "A value is trying to be set on a copy of a slice from a DataFrame.\n",
      "Try using .loc[row_indexer,col_indexer] = value instead\n",
      "\n",
      "See the caveats in the documentation: https://pandas.pydata.org/pandas-docs/stable/user_guide/indexing.html#returning-a-view-versus-a-copy\n",
      "  ital_covid[\"total_cases\"] = ital_covid[\"new_cases\"].cumsum()\n"
     ]
    }
   ],
   "execution_count": 25
  },
  {
   "metadata": {
    "ExecuteTime": {
     "end_time": "2024-07-05T10:26:11.831561Z",
     "start_time": "2024-07-05T10:26:11.290652Z"
    }
   },
   "cell_type": "code",
   "source": [
    "from matplotlib import pyplot as plt\n",
    "plt.plot(ital_covid[\"total_cases\"].values)\n",
    "plt.plot(german_covid[\"total_cases\"].values)\n",
    "plt.show()"
   ],
   "id": "242cadd539b429fa",
   "outputs": [
    {
     "data": {
      "text/plain": [
       "<Figure size 640x480 with 1 Axes>"
      ],
      "image/png": "[encoded data removed]"
     },
     "metadata": {},
     "output_type": "display_data"
    }
   ],
   "execution_count": 26
  },
  {
   "metadata": {
    "ExecuteTime": {
     "end_time": "2024-07-05T10:26:11.844387Z",
     "start_time": "2024-07-05T10:26:11.832802Z"
    }
   },
   "cell_type": "code",
   "source": "ital_covid.iloc[np.argwhere(ital_covid[\"total_cases\"].values - german_covid[\"total_cases\"].values > 10000)[0]]",
   "id": "9f1a9c13a5bbb69",
   "outputs": [
    {
     "data": {
      "text/plain": [
       "      location        date  new_cases  new_deaths  population  \\\n",
       "10760    Italy  2020-03-12       2313         196  60461828.0   \n",
       "\n",
       "       aged_65_older_percent  gdp_per_capita  hospital_beds_per_thousand  \\\n",
       "10760                 23.021       35220.084                        3.18   \n",
       "\n",
       "       total_cases  \n",
       "10760        12462  "
      ],
      "text/html": [
       "<div>\n",
       "<style scoped>\n",
       "    .dataframe tbody tr th:only-of-type {\n",
       "        vertical-align: middle;\n",
       "    }\n",
       "\n",
       "    .dataframe tbody tr th {\n",
       "        vertical-align: top;\n",
       "    }\n",
       "\n",
       "    .dataframe thead th {\n",
       "        text-align: right;\n",
       "    }\n",
       "</style>\n",
       "<table border=\"1\" class=\"dataframe\">\n",
       "  <thead>\n",
       "    <tr style=\"text-align: right;\">\n",
       "      <th></th>\n",
       "      <th>location</th>\n",
       "      <th>date</th>\n",
       "      <th>new_cases</th>\n",
       "      <th>new_deaths</th>\n",
       "      <th>population</th>\n",
       "      <th>aged_65_older_percent</th>\n",
       "      <th>gdp_per_capita</th>\n",
       "      <th>hospital_beds_per_thousand</th>\n",
       "      <th>total_cases</th>\n",
       "    </tr>\n",
       "  </thead>\n",
       "  <tbody>\n",
       "    <tr>\n",
       "      <th>10760</th>\n",
       "      <td>Italy</td>\n",
       "      <td>2020-03-12</td>\n",
       "      <td>2313</td>\n",
       "      <td>196</td>\n",
       "      <td>60461828.0</td>\n",
       "      <td>23.021</td>\n",
       "      <td>35220.084</td>\n",
       "      <td>3.18</td>\n",
       "      <td>12462</td>\n",
       "    </tr>\n",
       "  </tbody>\n",
       "</table>\n",
       "</div>"
      ]
     },
     "execution_count": 27,
     "metadata": {},
     "output_type": "execute_result"
    }
   ],
   "execution_count": 27
  },
  {
   "metadata": {
    "ExecuteTime": {
     "end_time": "2024-07-05T10:26:11.881642Z",
     "start_time": "2024-07-05T10:26:11.846944Z"
    }
   },
   "cell_type": "code",
   "source": [
    "selected_ital_ttl_case = ital_covid.loc[(ital_covid[\"date\"] >= \"2020-02-28\") & (ital_covid[\"date\"] <= \"2020-03-20\"), \"total_cases\"]\n",
    "rel_dates = np.arange(ital_covid.index.max() - ital_covid.index.min())\n",
    "# selected_ital_rel_date = ital_covid.loc[(ital_covid[\"date\"] >= \"2020-02-28\") & (ital_covid[\"date\"] <= \"2020-03-20\"), \"total_cases\"]"
   ],
   "id": "582519aac6ca9892",
   "outputs": [],
   "execution_count": 28
  },
  {
   "metadata": {
    "ExecuteTime": {
     "end_time": "2024-07-05T10:35:10.711488Z",
     "start_time": "2024-07-05T10:35:10.706259Z"
    }
   },
   "cell_type": "code",
   "source": [
    "from scipy.optimize import curve_fit\n",
    "def exponential_func(X, a, b):\n",
    "    return a * np.exp(b * X)\n",
    "(a, b ), cov = curve_fit(exponential_func,selected_ital_ttl_case, rel_dates[59:59+22])"
   ],
   "id": "a37ee6427a68eca7",
   "outputs": [
    {
     "name": "stderr",
     "output_type": "stream",
     "text": [
      "/home/arvinnick/anaconda3/envs/musicology/lib/python3.10/site-packages/pandas/core/arraylike.py:399: RuntimeWarning: overflow encountered in exp\n",
      "  result = getattr(ufunc, method)(*inputs, **kwargs)\n",
      "/home/arvinnick/anaconda3/envs/musicology/lib/python3.10/site-packages/scipy/optimize/_minpack_py.py:1003: RuntimeWarning: overflow encountered in square\n",
      "  cost = np.sum(infodict['fvec'] ** 2)\n",
      "/tmp/ipykernel_28025/3856262775.py:4: OptimizeWarning: Covariance of the parameters could not be estimated\n",
      "  (a, b ), cov = curve_fit(exponential_func,selected_ital_ttl_case, rel_dates[59:59+22])\n"
     ]
    }
   ],
   "execution_count": 49
  },
  {
   "metadata": {
    "ExecuteTime": {
     "end_time": "2024-07-05T10:35:12.800901Z",
     "start_time": "2024-07-05T10:35:12.794615Z"
    }
   },
   "cell_type": "code",
   "source": "exponential_func(selected_ital_ttl_case, a, b)",
   "id": "ad45c8ccda41d374",
   "outputs": [
    {
     "name": "stderr",
     "output_type": "stream",
     "text": [
      "/home/arvinnick/anaconda3/envs/musicology/lib/python3.10/site-packages/pandas/core/arraylike.py:399: RuntimeWarning: overflow encountered in exp\n",
      "  result = getattr(ufunc, method)(*inputs, **kwargs)\n"
     ]
    },
    {
     "data": {
      "text/plain": [
       "10747    1.956200e+282\n",
       "10748              inf\n",
       "10749              inf\n",
       "10750              inf\n",
       "10751              inf\n",
       "10752              inf\n",
       "10753              inf\n",
       "10754              inf\n",
       "10755              inf\n",
       "10756              inf\n",
       "10757              inf\n",
       "10758              inf\n",
       "10759              inf\n",
       "10760              inf\n",
       "10761              inf\n",
       "10762              inf\n",
       "10763              inf\n",
       "10764              inf\n",
       "10765              inf\n",
       "10766              inf\n",
       "10767              inf\n",
       "10768              inf\n",
       "Name: total_cases, dtype: float64"
      ]
     },
     "execution_count": 50,
     "metadata": {},
     "output_type": "execute_result"
    }
   ],
   "execution_count": 50
  },
  {
   "metadata": {
    "ExecuteTime": {
     "end_time": "2024-07-05T10:28:45.381543Z",
     "start_time": "2024-07-05T10:28:45.377373Z"
    }
   },
   "cell_type": "code",
   "source": "selected_ital_ttl_case-66",
   "id": "2468582f42aa91d8",
   "outputs": [
    {
     "data": {
      "text/plain": [
       "10747      584\n",
       "10748      822\n",
       "10749     1062\n",
       "10750     1623\n",
       "10751     1970\n",
       "10752     2436\n",
       "10753     3023\n",
       "10754     3792\n",
       "10755     4570\n",
       "10756     5817\n",
       "10757     7309\n",
       "10758     9106\n",
       "10759    10083\n",
       "10760    12396\n",
       "10761    15047\n",
       "10762    17594\n",
       "10763    21091\n",
       "10764    23914\n",
       "10765    27914\n",
       "10766    31440\n",
       "10767    35647\n",
       "10768    40969\n",
       "Name: total_cases, dtype: int64"
      ]
     },
     "execution_count": 33,
     "metadata": {},
     "output_type": "execute_result"
    }
   ],
   "execution_count": 33
  },
  {
   "metadata": {
    "ExecuteTime": {
     "end_time": "2024-07-05T10:35:27.118401Z",
     "start_time": "2024-07-05T10:35:27.114555Z"
    }
   },
   "cell_type": "code",
   "source": "rel_dates[59:59+22]",
   "id": "59d07229c20568a9",
   "outputs": [
    {
     "data": {
      "text/plain": [
       "array([59, 60, 61, 62, 63, 64, 65, 66, 67, 68, 69, 70, 71, 72, 73, 74, 75,\n",
       "       76, 77, 78, 79, 80])"
      ]
     },
     "execution_count": 51,
     "metadata": {},
     "output_type": "execute_result"
    }
   ],
   "execution_count": 51
  },
  {
   "metadata": {
    "ExecuteTime": {
     "end_time": "2024-07-05T10:45:07.788948Z",
     "start_time": "2024-07-05T10:45:07.742611Z"
    }
   },
   "cell_type": "code",
   "source": [
    "death_rate = [(country, c_df[\"new_deaths\"].sum()/c_df[\"population\"].mean()) for (country, c_df) in covid_data.groupby(\"location\")]\n",
    "death_rate = pd.DataFrame(death_rate)\n",
    "death_rate"
   ],
   "id": "e5e4ba1693a920b3",
   "outputs": [
    {
     "data": {
      "text/plain": [
       "                  0             1\n",
       "0       Afghanistan  9.864279e-06\n",
       "1           Albania  1.181458e-05\n",
       "2           Algeria  1.651044e-05\n",
       "3           Andorra  6.600660e-04\n",
       "4            Angola  1.217053e-07\n",
       "..              ...           ...\n",
       "207  Western Sahara  1.674116e-06\n",
       "208           World  5.275248e-05\n",
       "209           Yemen  4.258034e-06\n",
       "210          Zambia  5.439526e-07\n",
       "211        Zimbabwe  2.691260e-07\n",
       "\n",
       "[212 rows x 2 columns]"
      ],
      "text/html": [
       "<div>\n",
       "<style scoped>\n",
       "    .dataframe tbody tr th:only-of-type {\n",
       "        vertical-align: middle;\n",
       "    }\n",
       "\n",
       "    .dataframe tbody tr th {\n",
       "        vertical-align: top;\n",
       "    }\n",
       "\n",
       "    .dataframe thead th {\n",
       "        text-align: right;\n",
       "    }\n",
       "</style>\n",
       "<table border=\"1\" class=\"dataframe\">\n",
       "  <thead>\n",
       "    <tr style=\"text-align: right;\">\n",
       "      <th></th>\n",
       "      <th>0</th>\n",
       "      <th>1</th>\n",
       "    </tr>\n",
       "  </thead>\n",
       "  <tbody>\n",
       "    <tr>\n",
       "      <th>0</th>\n",
       "      <td>Afghanistan</td>\n",
       "      <td>9.864279e-06</td>\n",
       "    </tr>\n",
       "    <tr>\n",
       "      <th>1</th>\n",
       "      <td>Albania</td>\n",
       "      <td>1.181458e-05</td>\n",
       "    </tr>\n",
       "    <tr>\n",
       "      <th>2</th>\n",
       "      <td>Algeria</td>\n",
       "      <td>1.651044e-05</td>\n",
       "    </tr>\n",
       "    <tr>\n",
       "      <th>3</th>\n",
       "      <td>Andorra</td>\n",
       "      <td>6.600660e-04</td>\n",
       "    </tr>\n",
       "    <tr>\n",
       "      <th>4</th>\n",
       "      <td>Angola</td>\n",
       "      <td>1.217053e-07</td>\n",
       "    </tr>\n",
       "    <tr>\n",
       "      <th>...</th>\n",
       "      <td>...</td>\n",
       "      <td>...</td>\n",
       "    </tr>\n",
       "    <tr>\n",
       "      <th>207</th>\n",
       "      <td>Western Sahara</td>\n",
       "      <td>1.674116e-06</td>\n",
       "    </tr>\n",
       "    <tr>\n",
       "      <th>208</th>\n",
       "      <td>World</td>\n",
       "      <td>5.275248e-05</td>\n",
       "    </tr>\n",
       "    <tr>\n",
       "      <th>209</th>\n",
       "      <td>Yemen</td>\n",
       "      <td>4.258034e-06</td>\n",
       "    </tr>\n",
       "    <tr>\n",
       "      <th>210</th>\n",
       "      <td>Zambia</td>\n",
       "      <td>5.439526e-07</td>\n",
       "    </tr>\n",
       "    <tr>\n",
       "      <th>211</th>\n",
       "      <td>Zimbabwe</td>\n",
       "      <td>2.691260e-07</td>\n",
       "    </tr>\n",
       "  </tbody>\n",
       "</table>\n",
       "<p>212 rows × 2 columns</p>\n",
       "</div>"
      ]
     },
     "execution_count": 66,
     "metadata": {},
     "output_type": "execute_result"
    }
   ],
   "execution_count": 66
  },
  {
   "metadata": {
    "ExecuteTime": {
     "end_time": "2024-07-05T10:45:09.046633Z",
     "start_time": "2024-07-05T10:45:09.026549Z"
    }
   },
   "cell_type": "code",
   "source": [
    "from sklearn.metrics import f1_score\n",
    "\n",
    "over_65 = [country for (country, c_df) in covid_data.groupby(\"location\") if c_df[\"aged_65_older_percent\"].mean()>20]\n",
    "# death_rate = pd.DataFrame(death_rate)\n",
    "over_65"
   ],
   "id": "f44bd9be1b85db24",
   "outputs": [
    {
     "data": {
      "text/plain": [
       "['Bulgaria', 'Finland', 'Germany', 'Greece', 'Italy', 'Japan', 'Portugal']"
      ]
     },
     "execution_count": 67,
     "metadata": {},
     "output_type": "execute_result"
    }
   ],
   "execution_count": 67
  },
  {
   "metadata": {
    "ExecuteTime": {
     "end_time": "2024-07-05T10:49:55.254424Z",
     "start_time": "2024-07-05T10:49:55.249893Z"
    }
   },
   "cell_type": "code",
   "source": "death_rate[death_rate[0].isin(over_65)][1] > ",
   "id": "23c3ca098dfa95f7",
   "outputs": [
    {
     "data": {
      "text/plain": [
       "30     0.000024\n",
       "67     0.000058\n",
       "73     0.000104\n",
       "76     0.000018\n",
       "98     0.000563\n",
       "100    0.000007\n",
       "154    0.000146\n",
       "Name: 1, dtype: float64"
      ]
     },
     "execution_count": 76,
     "metadata": {},
     "output_type": "execute_result"
    }
   ],
   "execution_count": 76
  },
  {
   "metadata": {
    "ExecuteTime": {
     "end_time": "2024-07-05T10:46:45.053788Z",
     "start_time": "2024-07-05T10:46:45.031975Z"
    }
   },
   "cell_type": "code",
   "source": [
    "death_total = [(country, c_df[\"new_deaths\"].sum()) for (country, c_df) in covid_data.groupby(\"location\")]\n",
    "death_total = pd.DataFrame(death_total)\n",
    "death_total"
   ],
   "id": "af7abd8814b8ed26",
   "outputs": [
    {
     "data": {
      "text/plain": [
       "                  0       1\n",
       "0       Afghanistan     384\n",
       "1           Albania      34\n",
       "2           Algeria     724\n",
       "3           Andorra      51\n",
       "4            Angola       4\n",
       "..              ...     ...\n",
       "207  Western Sahara       1\n",
       "208           World  411195\n",
       "209           Yemen     127\n",
       "210          Zambia      10\n",
       "211        Zimbabwe       4\n",
       "\n",
       "[212 rows x 2 columns]"
      ],
      "text/html": [
       "<div>\n",
       "<style scoped>\n",
       "    .dataframe tbody tr th:only-of-type {\n",
       "        vertical-align: middle;\n",
       "    }\n",
       "\n",
       "    .dataframe tbody tr th {\n",
       "        vertical-align: top;\n",
       "    }\n",
       "\n",
       "    .dataframe thead th {\n",
       "        text-align: right;\n",
       "    }\n",
       "</style>\n",
       "<table border=\"1\" class=\"dataframe\">\n",
       "  <thead>\n",
       "    <tr style=\"text-align: right;\">\n",
       "      <th></th>\n",
       "      <th>0</th>\n",
       "      <th>1</th>\n",
       "    </tr>\n",
       "  </thead>\n",
       "  <tbody>\n",
       "    <tr>\n",
       "      <th>0</th>\n",
       "      <td>Afghanistan</td>\n",
       "      <td>384</td>\n",
       "    </tr>\n",
       "    <tr>\n",
       "      <th>1</th>\n",
       "      <td>Albania</td>\n",
       "      <td>34</td>\n",
       "    </tr>\n",
       "    <tr>\n",
       "      <th>2</th>\n",
       "      <td>Algeria</td>\n",
       "      <td>724</td>\n",
       "    </tr>\n",
       "    <tr>\n",
       "      <th>3</th>\n",
       "      <td>Andorra</td>\n",
       "      <td>51</td>\n",
       "    </tr>\n",
       "    <tr>\n",
       "      <th>4</th>\n",
       "      <td>Angola</td>\n",
       "      <td>4</td>\n",
       "    </tr>\n",
       "    <tr>\n",
       "      <th>...</th>\n",
       "      <td>...</td>\n",
       "      <td>...</td>\n",
       "    </tr>\n",
       "    <tr>\n",
       "      <th>207</th>\n",
       "      <td>Western Sahara</td>\n",
       "      <td>1</td>\n",
       "    </tr>\n",
       "    <tr>\n",
       "      <th>208</th>\n",
       "      <td>World</td>\n",
       "      <td>411195</td>\n",
       "    </tr>\n",
       "    <tr>\n",
       "      <th>209</th>\n",
       "      <td>Yemen</td>\n",
       "      <td>127</td>\n",
       "    </tr>\n",
       "    <tr>\n",
       "      <th>210</th>\n",
       "      <td>Zambia</td>\n",
       "      <td>10</td>\n",
       "    </tr>\n",
       "    <tr>\n",
       "      <th>211</th>\n",
       "      <td>Zimbabwe</td>\n",
       "      <td>4</td>\n",
       "    </tr>\n",
       "  </tbody>\n",
       "</table>\n",
       "<p>212 rows × 2 columns</p>\n",
       "</div>"
      ]
     },
     "execution_count": 70,
     "metadata": {},
     "output_type": "execute_result"
    }
   ],
   "execution_count": 70
  },
  {
   "metadata": {
    "ExecuteTime": {
     "end_time": "2024-07-05T10:49:22.495326Z",
     "start_time": "2024-07-05T10:49:22.490601Z"
    }
   },
   "cell_type": "code",
   "source": "death_total[death_total[0]==\"Bulgaria\"]",
   "id": "8ae55cb418de369b",
   "outputs": [
    {
     "data": {
      "text/plain": [
       "           0    1\n",
       "30  Bulgaria  167"
      ],
      "text/html": [
       "<div>\n",
       "<style scoped>\n",
       "    .dataframe tbody tr th:only-of-type {\n",
       "        vertical-align: middle;\n",
       "    }\n",
       "\n",
       "    .dataframe tbody tr th {\n",
       "        vertical-align: top;\n",
       "    }\n",
       "\n",
       "    .dataframe thead th {\n",
       "        text-align: right;\n",
       "    }\n",
       "</style>\n",
       "<table border=\"1\" class=\"dataframe\">\n",
       "  <thead>\n",
       "    <tr style=\"text-align: right;\">\n",
       "      <th></th>\n",
       "      <th>0</th>\n",
       "      <th>1</th>\n",
       "    </tr>\n",
       "  </thead>\n",
       "  <tbody>\n",
       "    <tr>\n",
       "      <th>30</th>\n",
       "      <td>Bulgaria</td>\n",
       "      <td>167</td>\n",
       "    </tr>\n",
       "  </tbody>\n",
       "</table>\n",
       "</div>"
      ]
     },
     "execution_count": 74,
     "metadata": {},
     "output_type": "execute_result"
    }
   ],
   "execution_count": 74
  },
  {
   "metadata": {
    "ExecuteTime": {
     "end_time": "2024-07-05T10:48:22.938141Z",
     "start_time": "2024-07-05T10:48:22.922733Z"
    }
   },
   "cell_type": "code",
   "source": "covid_data[covid_data[\"location\"].str.startswith(\"Bulgaria\")]",
   "id": "ce1bde64b5fb4fc6",
   "outputs": [
    {
     "data": {
      "text/plain": [
       "      location        date  new_cases  new_deaths  population  \\\n",
       "3293  Bulgaria  2020-03-08          2           0   6948445.0   \n",
       "3294  Bulgaria  2020-03-09          2           0   6948445.0   \n",
       "3295  Bulgaria  2020-03-12          3           1   6948445.0   \n",
       "3296  Bulgaria  2020-03-13         16           0   6948445.0   \n",
       "3297  Bulgaria  2020-03-14          8           0   6948445.0   \n",
       "...        ...         ...        ...         ...         ...   \n",
       "3381  Bulgaria  2020-06-06         83          13   6948445.0   \n",
       "3382  Bulgaria  2020-06-07         43           0   6948445.0   \n",
       "3383  Bulgaria  2020-06-08         16           0   6948445.0   \n",
       "3384  Bulgaria  2020-06-09         83           4   6948445.0   \n",
       "3385  Bulgaria  2020-06-10         79           3   6948445.0   \n",
       "\n",
       "      aged_65_older_percent  gdp_per_capita  hospital_beds_per_thousand  \n",
       "3293                 20.801       18563.307                       7.454  \n",
       "3294                 20.801       18563.307                       7.454  \n",
       "3295                 20.801       18563.307                       7.454  \n",
       "3296                 20.801       18563.307                       7.454  \n",
       "3297                 20.801       18563.307                       7.454  \n",
       "...                     ...             ...                         ...  \n",
       "3381                 20.801       18563.307                       7.454  \n",
       "3382                 20.801       18563.307                       7.454  \n",
       "3383                 20.801       18563.307                       7.454  \n",
       "3384                 20.801       18563.307                       7.454  \n",
       "3385                 20.801       18563.307                       7.454  \n",
       "\n",
       "[93 rows x 8 columns]"
      ],
      "text/html": [
       "<div>\n",
       "<style scoped>\n",
       "    .dataframe tbody tr th:only-of-type {\n",
       "        vertical-align: middle;\n",
       "    }\n",
       "\n",
       "    .dataframe tbody tr th {\n",
       "        vertical-align: top;\n",
       "    }\n",
       "\n",
       "    .dataframe thead th {\n",
       "        text-align: right;\n",
       "    }\n",
       "</style>\n",
       "<table border=\"1\" class=\"dataframe\">\n",
       "  <thead>\n",
       "    <tr style=\"text-align: right;\">\n",
       "      <th></th>\n",
       "      <th>location</th>\n",
       "      <th>date</th>\n",
       "      <th>new_cases</th>\n",
       "      <th>new_deaths</th>\n",
       "      <th>population</th>\n",
       "      <th>aged_65_older_percent</th>\n",
       "      <th>gdp_per_capita</th>\n",
       "      <th>hospital_beds_per_thousand</th>\n",
       "    </tr>\n",
       "  </thead>\n",
       "  <tbody>\n",
       "    <tr>\n",
       "      <th>3293</th>\n",
       "      <td>Bulgaria</td>\n",
       "      <td>2020-03-08</td>\n",
       "      <td>2</td>\n",
       "      <td>0</td>\n",
       "      <td>6948445.0</td>\n",
       "      <td>20.801</td>\n",
       "      <td>18563.307</td>\n",
       "      <td>7.454</td>\n",
       "    </tr>\n",
       "    <tr>\n",
       "      <th>3294</th>\n",
       "      <td>Bulgaria</td>\n",
       "      <td>2020-03-09</td>\n",
       "      <td>2</td>\n",
       "      <td>0</td>\n",
       "      <td>6948445.0</td>\n",
       "      <td>20.801</td>\n",
       "      <td>18563.307</td>\n",
       "      <td>7.454</td>\n",
       "    </tr>\n",
       "    <tr>\n",
       "      <th>3295</th>\n",
       "      <td>Bulgaria</td>\n",
       "      <td>2020-03-12</td>\n",
       "      <td>3</td>\n",
       "      <td>1</td>\n",
       "      <td>6948445.0</td>\n",
       "      <td>20.801</td>\n",
       "      <td>18563.307</td>\n",
       "      <td>7.454</td>\n",
       "    </tr>\n",
       "    <tr>\n",
       "      <th>3296</th>\n",
       "      <td>Bulgaria</td>\n",
       "      <td>2020-03-13</td>\n",
       "      <td>16</td>\n",
       "      <td>0</td>\n",
       "      <td>6948445.0</td>\n",
       "      <td>20.801</td>\n",
       "      <td>18563.307</td>\n",
       "      <td>7.454</td>\n",
       "    </tr>\n",
       "    <tr>\n",
       "      <th>3297</th>\n",
       "      <td>Bulgaria</td>\n",
       "      <td>2020-03-14</td>\n",
       "      <td>8</td>\n",
       "      <td>0</td>\n",
       "      <td>6948445.0</td>\n",
       "      <td>20.801</td>\n",
       "      <td>18563.307</td>\n",
       "      <td>7.454</td>\n",
       "    </tr>\n",
       "    <tr>\n",
       "      <th>...</th>\n",
       "      <td>...</td>\n",
       "      <td>...</td>\n",
       "      <td>...</td>\n",
       "      <td>...</td>\n",
       "      <td>...</td>\n",
       "      <td>...</td>\n",
       "      <td>...</td>\n",
       "      <td>...</td>\n",
       "    </tr>\n",
       "    <tr>\n",
       "      <th>3381</th>\n",
       "      <td>Bulgaria</td>\n",
       "      <td>2020-06-06</td>\n",
       "      <td>83</td>\n",
       "      <td>13</td>\n",
       "      <td>6948445.0</td>\n",
       "      <td>20.801</td>\n",
       "      <td>18563.307</td>\n",
       "      <td>7.454</td>\n",
       "    </tr>\n",
       "    <tr>\n",
       "      <th>3382</th>\n",
       "      <td>Bulgaria</td>\n",
       "      <td>2020-06-07</td>\n",
       "      <td>43</td>\n",
       "      <td>0</td>\n",
       "      <td>6948445.0</td>\n",
       "      <td>20.801</td>\n",
       "      <td>18563.307</td>\n",
       "      <td>7.454</td>\n",
       "    </tr>\n",
       "    <tr>\n",
       "      <th>3383</th>\n",
       "      <td>Bulgaria</td>\n",
       "      <td>2020-06-08</td>\n",
       "      <td>16</td>\n",
       "      <td>0</td>\n",
       "      <td>6948445.0</td>\n",
       "      <td>20.801</td>\n",
       "      <td>18563.307</td>\n",
       "      <td>7.454</td>\n",
       "    </tr>\n",
       "    <tr>\n",
       "      <th>3384</th>\n",
       "      <td>Bulgaria</td>\n",
       "      <td>2020-06-09</td>\n",
       "      <td>83</td>\n",
       "      <td>4</td>\n",
       "      <td>6948445.0</td>\n",
       "      <td>20.801</td>\n",
       "      <td>18563.307</td>\n",
       "      <td>7.454</td>\n",
       "    </tr>\n",
       "    <tr>\n",
       "      <th>3385</th>\n",
       "      <td>Bulgaria</td>\n",
       "      <td>2020-06-10</td>\n",
       "      <td>79</td>\n",
       "      <td>3</td>\n",
       "      <td>6948445.0</td>\n",
       "      <td>20.801</td>\n",
       "      <td>18563.307</td>\n",
       "      <td>7.454</td>\n",
       "    </tr>\n",
       "  </tbody>\n",
       "</table>\n",
       "<p>93 rows × 8 columns</p>\n",
       "</div>"
      ]
     },
     "execution_count": 73,
     "metadata": {},
     "output_type": "execute_result"
    }
   ],
   "execution_count": 73
  },
  {
   "metadata": {
    "ExecuteTime": {
     "end_time": "2024-07-05T10:49:34.675812Z",
     "start_time": "2024-07-05T10:49:34.672573Z"
    }
   },
   "cell_type": "code",
   "source": "167/6948445.0",
   "id": "83f019e85ac8dd14",
   "outputs": [
    {
     "data": {
      "text/plain": [
       "2.4034154404330752e-05"
      ]
     },
     "execution_count": 75,
     "metadata": {},
     "output_type": "execute_result"
    }
   ],
   "execution_count": 75
  }
 ],
 "metadata": {
  "kernelspec": {
   "display_name": "Python 3",
   "language": "python",
   "name": "python3"
  },
  "language_info": {
   "codemirror_mode": {
    "name": "ipython",
    "version": 2
   },
   "file_extension": ".py",
   "mimetype": "text/x-python",
   "name": "python",
   "nbconvert_exporter": "python",
   "pygments_lexer": "ipython2",
   "version": "2.7.6"
  }
 },
 "nbformat": 4,
 "nbformat_minor": 5
}
